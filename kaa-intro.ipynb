{
 "cells": [
  {
   "cell_type": "code",
   "execution_count": null,
   "metadata": {
    "scrolled": true
   },
   "outputs": [],
   "source": [
    "from models import sir, rossler, lotkavolterra\n",
    "from models.basic import basic, basic2\n",
    "from sapo.reach import ReachSet\n",
    "from sapo.flowpipe import FlowPipePlotter\n",
    "import sapo.benchmark as Benchmark"
   ]
  },
  {
   "cell_type": "markdown",
   "metadata": {},
   "source": [
    "# Basic Parallelotope centered at origin moving diagonally up to right."
   ]
  },
  {
   "cell_type": "code",
   "execution_count": null,
   "metadata": {
    "scrolled": true
   },
   "outputs": [],
   "source": [
    "basic_model = basic.Basic()\n",
    "basic_reach = ReachSet(basic_model)\n",
    "FlowPipePlotter(basic_reach.computeReachSet(150)).plot2DProj(0)\n",
    "Benchmark.generate_stats()"
   ]
  },
  {
   "cell_type": "markdown",
   "metadata": {},
   "source": [
    "# Basic Parallelotope centered at origin moving diagonally down to left."
   ]
  },
  {
   "cell_type": "code",
   "execution_count": null,
   "metadata": {},
   "outputs": [],
   "source": [
    "basic_model2 = basic2.Basic2()\n",
    "basic_reach2 = ReachSet(basic_model2)\n",
    "FlowPipePlotter(basic_reach2.computeReachSet(150)).plot2DProj(0)\n",
    "Benchmark.generate_stats()"
   ]
  },
  {
   "cell_type": "markdown",
   "metadata": {},
   "source": [
    "# SIR Model projection to r"
   ]
  },
  {
   "cell_type": "code",
   "execution_count": null,
   "metadata": {},
   "outputs": [],
   "source": [
    "sir_model = sir.SIR()\n",
    "sir_reach = ReachSet(sir_model)\n",
    "FlowPipePlotter(sir_reach.computeReachSet(150)).plot2DProj(2)"
   ]
  },
  {
   "cell_type": "markdown",
   "metadata": {},
   "source": [
    "# SIR Model projection to i "
   ]
  },
  {
   "cell_type": "code",
   "execution_count": null,
   "metadata": {},
   "outputs": [],
   "source": [
    "sir_model = sir.SIR()\n",
    "sir_reach = ReachSet(sir_model)\n",
    "FlowPipePlotter(sir_reach.computeReachSet(150)).plot2DProj(1)\n",
    "Benchmark.generate_stats()"
   ]
  },
  {
   "cell_type": "markdown",
   "metadata": {},
   "source": [
    "# Rossler Model projection to x"
   ]
  },
  {
   "cell_type": "code",
   "execution_count": null,
   "metadata": {},
   "outputs": [],
   "source": [
    "rossler_model = rossler.Rossler()\n",
    "rossler_reach = ReachSet(rossler_model)\n",
    "FlowPipePlotter(rossler_reach.computeReachSet(150)).plot2DProj(0)"
   ]
  },
  {
   "cell_type": "markdown",
   "metadata": {},
   "source": [
    "# Rossler Model projection to z"
   ]
  },
  {
   "cell_type": "code",
   "execution_count": null,
   "metadata": {},
   "outputs": [],
   "source": [
    "rossler_model = rossler.Rossler()\n",
    "rossler_reach = ReachSet(rossler_model)\n",
    "FlowPipePlotter(rossler_reach.computeReachSet(150)).plot2DProj(1)"
   ]
  },
  {
   "cell_type": "markdown",
   "metadata": {},
   "source": [
    "# Lotka-Volterra Models projected onto 2nd variable. \n",
    "## Warning: Takes awhile to compute"
   ]
  },
  {
   "cell_type": "code",
   "execution_count": null,
   "metadata": {},
   "outputs": [],
   "source": [
    "lk_model = lotkavolterra.LotkaVolterra()\n",
    "lk_reach = ReachSet(lk_model)\n",
    "FlowPipePlotter(lk_reach.computeReachSet(150)).plot2DProj(1)"
   ]
  },
  {
   "cell_type": "markdown",
   "metadata": {},
   "source": [
    "# Phase Plot for Basic (x,y)"
   ]
  },
  {
   "cell_type": "code",
   "execution_count": null,
   "metadata": {
    "scrolled": false
   },
   "outputs": [],
   "source": [
    "basic_model = basic.Basic()\n",
    "basic_reach = ReachSet(basic_model)\n",
    "FlowPipePlotter(basic_reach.computeReachSet(150)).plot2DPhase(0,1)"
   ]
  },
  {
   "cell_type": "markdown",
   "metadata": {},
   "source": [
    "# Phase Plot for SIR (S,I)"
   ]
  },
  {
   "cell_type": "code",
   "execution_count": null,
   "metadata": {},
   "outputs": [],
   "source": [
    "    sir_mod = sir.SIR()\n",
    "    sir_reach = ReachSet(sir_mod)\n",
    "\n",
    "    flowpipe = sir_reach.computeReachSet(100)\n",
    "    FlowPipePlotter(flowpipe).plot2DPhase(0,1)"
   ]
  },
  {
   "cell_type": "markdown",
   "metadata": {},
   "source": [
    "# Phase Plot for SIR (I,R)"
   ]
  },
  {
   "cell_type": "code",
   "execution_count": null,
   "metadata": {},
   "outputs": [],
   "source": [
    "    sir_mod = sir.SIR()\n",
    "    sir_reach = ReachSet(sir_mod)\n",
    "\n",
    "    flowpipe = sir_reach.computeReachSet(100)\n",
    "    FlowPipePlotter(flowpipe).plot2DPhase(1,2)"
   ]
  },
  {
   "cell_type": "markdown",
   "metadata": {},
   "source": [
    "# Phase Plot for Rossler (x,y)"
   ]
  },
  {
   "cell_type": "code",
   "execution_count": null,
   "metadata": {},
   "outputs": [],
   "source": [
    "rossler_model = rossler.Rossler()\n",
    "rossler_reach = ReachSet(rossler_model)\n",
    "FlowPipePlotter(rossler_reach.computeReachSet(150)).plot2DPhase(0,1)"
   ]
  },
  {
   "cell_type": "markdown",
   "metadata": {},
   "source": [
    "# Phase Plot for Rossler (y,z)"
   ]
  },
  {
   "cell_type": "code",
   "execution_count": null,
   "metadata": {},
   "outputs": [],
   "source": [
    "rossler_model = rossler.Rossler()\n",
    "rossler_reach = ReachSet(rossler_model)\n",
    "FlowPipePlotter(rossler_reach.computeReachSet(150)).plot2DPhase(0,2)"
   ]
  },
  {
   "cell_type": "markdown",
   "metadata": {},
   "source": [
    "# Phase Plot for Lotka-Volterra for 1st and 3rd dimensions.\n",
    "## Warning: Takes awhile to compute"
   ]
  },
  {
   "cell_type": "code",
   "execution_count": null,
   "metadata": {},
   "outputs": [],
   "source": [
    "lk_model = lotkavolterra.LotkaVolterra()\n",
    "lk_reach = ReachSet(lk_model)\n",
    "FlowPipePlotter(lk_reach.computeReachSet(100)).plot2DPhase(0,2)"
   ]
  },
  {
   "cell_type": "code",
   "execution_count": null,
   "metadata": {},
   "outputs": [],
   "source": []
  }
 ],
 "metadata": {
  "kernelspec": {
   "display_name": "Python 3",
   "language": "python",
   "name": "python3"
  },
  "language_info": {
   "codemirror_mode": {
    "name": "ipython",
    "version": 3
   },
   "file_extension": ".py",
   "mimetype": "text/x-python",
   "name": "python",
   "nbconvert_exporter": "python",
   "pygments_lexer": "ipython3",
   "version": "3.7.4"
  }
 },
 "nbformat": 4,
 "nbformat_minor": 2
}
