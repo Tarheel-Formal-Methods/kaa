{
 "cells": [
  {
   "cell_type": "markdown",
   "metadata": {},
   "source": [
    "# Introduction to Models and Reachability in Kaa"
   ]
  },
  {
   "cell_type": "markdown",
   "metadata": {},
   "source": [
    "We first import the necessary modules and classes from Kaa. To start defining models, we at least need the sympy and numpy packages alongside the Model and Bundle classes."
   ]
  },
  {
   "cell_type": "code",
   "execution_count": null,
   "metadata": {},
   "outputs": [],
   "source": [
    "import sympy as sp\n",
    "import numpy as np\n",
    "\n",
    "from kaa.bundle import Bundle\n",
    "from kaa.model import Model"
   ]
  },
  {
   "cell_type": "markdown",
   "metadata": {},
   "source": [
    "# Basic Parallelotope "
   ]
  },
  {
   "cell_type": "markdown",
   "metadata": {},
   "source": [
    "A model file in Kaa consists of first defining the variables and the dynamics. Kaa is designed for the analysis of **polynomial discrete dynamics**. The following model definition illustates how to define the unitbox shifting diagonally up to the right."
   ]
  },
  {
   "cell_type": "code",
   "execution_count": null,
   "metadata": {},
   "outputs": [],
   "source": [
    "class Basic(Model):\n",
    "\n",
    "    def __init__(self):\n",
    "\n",
    "        x,y = sp.Symbol('x'), sp.Symbol('y')\n",
    "\n",
    "        dx = x + 1\n",
    "        dy = y + 1\n",
    "\n",
    "        dyns  = [dx, dy]\n",
    "        vars = [x, y]\n",
    "\n",
    "        L = np.empty([2,2])\n",
    "        T = np.empty(2)\n",
    "\n",
    "        L[0] = [1, 0]\n",
    "        L[1] = [0, 1]\n",
    "\n",
    "        T[0][0] = 0\n",
    "        T[0][1] = 1\n",
    "\n",
    "        offu = np.empty(2)\n",
    "        offl = np.empty(2)\n",
    "\n",
    "        offu[0] = 1\n",
    "        offu[1] = 1\n",
    "    \n",
    "        offl[0] = 1\n",
    "        offl[1] = 1\n",
    "  \n",
    "        b = Bundle(T, L, offu, offl, vars)\n",
    "\n",
    "        super().__init__(b, dyns, vars)\n"
   ]
  },
  {
   "cell_type": "markdown",
   "metadata": {},
   "source": [
    "The numpy matrix $L$ represents the directions matrix of the model. Each row of the matrix reprsents a normal vector to the plane used to define the positive halfspace i.e the $i^{th}$ row of $L$ defines the halfspaces $L_i{\\bf x} \\leq \\text{offu}_i$ and $-L_i{\\bf x} \\leq \\text{offl}_i$ where $\\text{offu}$ is the vector of offsets for the upper facets (corresponding to the $L_i$) and $\\text{offl}$ is the vector of offsets for the lower facets (corresponding to the $-L_i$)."
   ]
  },
  {
   "cell_type": "markdown",
   "metadata": {},
   "source": [
    "The matrix $T$ represents the template matrix defining the parallelotope bundle of the model. Each row $T_i$ represents a vector of row-indices in $L$ defining parallelotope $i$ in the bundle. This defines $n$ hyperplanes and their parallel counterparts from the directions matrix. In other words, element $T_{ij}$ indicates that the postive and negative halfspaces defined by normal vector $L_i, -L_i$ with offsets in $\\text{offu}_i$ and $\\text{offl}_i$ respectively is contained in parallelotope $j$. The intersection of the positive and negative halfspaces will be the parallelotope in question. Note that the number of columns of $T$ must exactly be the dimension of the system. "
   ]
  },
  {
   "cell_type": "markdown",
   "metadata": {},
   "source": [
    "Thus, observe that definitions of $L$, $T$, $\\text{offu}$. and $\\text{offl}$ designate the initial set as the **unit box** in $\\mathbb{R}^2$. To initialize the reachability computation, we must first create an initial bundle denoted by the variable $b$ in this case. The bundle is a data structure which contains the directions matrix $L$ along with the upper and lower offsets $\\text{offu}$, $\\text{offl}$ and the template matrix $T$. It additionally encapsulates methods describing the parallelotope bundle in terms of linear constraints (half-spaces).\n",
    "\n",
    "In this case, there is only one row in the template matrix. Examples below will leverage multiple parallelotopes to generate tighter over-approximations."
   ]
  },
  {
   "cell_type": "markdown",
   "metadata": {},
   "source": [
    "We now construct a Reach object and a FlowPipePlotter object to calculate the reachable set and plot the projection to the $x$-axis for 150 steps.\n",
    "\n",
    "First, we import the necessary modules and classes as usual:"
   ]
  },
  {
   "cell_type": "code",
   "execution_count": null,
   "metadata": {},
   "outputs": [],
   "source": [
    "from kaa.reach import ReachSet\n",
    "from kaa.flowpipe import FlowPipePlotter"
   ]
  },
  {
   "cell_type": "markdown",
   "metadata": {},
   "source": [
    "kaa.reach.ReachSet is the object responsible for computing the reachale set for a supplied number of time steps. The constructor takes in a Model object defining the dynamics and the initial bundle. Calling **ReachSet.computeReachSet(num)** will calculate the reachable set for $num$ time steps. To plot the projection on the $x$-axis, we first create a **FlowPipePlotter** object supplied with the **Flowpipe** returned by **ReachSet.computeReachSet(num)** and feed it into **FlowPipePlotter.plot2DProj(var)** where $var$ is the index of the desired variable. The relevant code is posted below: "
   ]
  },
  {
   "cell_type": "code",
   "execution_count": null,
   "metadata": {
    "scrolled": true
   },
   "outputs": [],
   "source": [
    "basic_model = Basic()\n",
    "basic_reach = ReachSet(basic_model)\n",
    "basic_flowpipe = basic_reach.computeReachSet(150)\n",
    "FlowPipePlotter(basic_flowpipe).plot2DProj(0)"
   ]
  },
  {
   "cell_type": "markdown",
   "metadata": {},
   "source": [
    "We can also plot the phase diagram for this model as follows. This should just be the unit box shifting along the positive diagonal for 150 steps."
   ]
  },
  {
   "cell_type": "markdown",
   "metadata": {},
   "source": [
    "## Phase Plot for Basic (x,y)"
   ]
  },
  {
   "cell_type": "code",
   "execution_count": null,
   "metadata": {
    "scrolled": false
   },
   "outputs": [],
   "source": [
    "basic_model = basic.Basic()\n",
    "basic_reach = ReachSet(basic_model)\n",
    "FlowPipePlotter(basic_reach.computeReachSet(150)).plot2DPhase(0,1)"
   ]
  },
  {
   "cell_type": "markdown",
   "metadata": {},
   "source": [
    "# SIR Epidemic Model"
   ]
  },
  {
   "cell_type": "markdown",
   "metadata": {},
   "source": [
    "We now investigate a slightly more complicated model, the SIR epidemic model. Following the format from the example above, we define the following model:"
   ]
  },
  {
   "cell_type": "code",
   "execution_count": 3,
   "metadata": {},
   "outputs": [],
   "source": [
    "class SIR(Model):\n",
    "\n",
    "  def __init__(self):\n",
    "\n",
    "      s, i, r = sp.Symbol('s'), sp.Symbol('i'), sp.Symbol('r')\n",
    "\n",
    "      ds = s - (0.34*s*i)*0.05;\n",
    "      di = i + (0.34*s*i - 0.05*i)*0.05;\n",
    "      dr = r + 0.05*i*0.05;\n",
    "\n",
    "      dyns = [ds, di, dr]\n",
    "      vars = [s, i, r] \n",
    "      sys_dim = len(vars)\n",
    "\n",
    "      num_direct = 3\n",
    "      num_temps = 1\n",
    "\n",
    "      L = np.zeros([num_direct, sys_dim])\n",
    "      T = np.zeros([num_temps, sys_dim])\n",
    "\n",
    "      # Directions matrix\n",
    "      L[0][0] = 1  #[1 0 0 ]^T\n",
    "      L[1][1] = 1  #[0 1 0 ]^T\n",
    "      L[2][2] = 1  #[0 0 1 ]^T\n",
    "\n",
    "      # Template matrix\n",
    "      T[0][0] = 0 \n",
    "      T[0][1] = 1 \n",
    "      T[0][2] = 2\n",
    "\n",
    "      offu = np.zeros(num_direct)\n",
    "      offl = np.zeros(num_direct)\n",
    "\n",
    "      offu[0] = 0.8\n",
    "      offl[0] = -0.79\n",
    "\n",
    "      offu[1] = 0.2\n",
    "      offl[1] = -0.19\n",
    "\n",
    "      offu[2] = 0.001\n",
    "      offl[2] = -0.00099\n",
    "\n",
    "      b = Bundle(T, L, offu, offl, vars)\n",
    "      super().__init__(b, dyns, vars)\n"
   ]
  },
  {
   "cell_type": "markdown",
   "metadata": {},
   "source": [
    "The initial set is taken from Dreossi et. al. Note that we only use one parallelotope here as $T$ only has one row. Furthermore, this parallelotope uses the axis-aligned unit vectors as its directions. Based on the definitions of $\\text{offu}$ and $\\text{offl}$, observe that initial set will be:\n",
    "$$ s \\in [0.79, 0.8] \\quad i \\in [0.19, 0.2]  \\quad r = 0 $$\n",
    "\n",
    "We can now calculate the flowpipe for 150 steps, and plot the resulting projections and phase plots. "
   ]
  },
  {
   "cell_type": "markdown",
   "metadata": {},
   "source": [
    "## SIR Model projection to r"
   ]
  },
  {
   "cell_type": "code",
   "execution_count": null,
   "metadata": {},
   "outputs": [],
   "source": [
    "sir_model = SIR()\n",
    "sir_reach = ReachSet(sir_model)\n",
    "sir_flow = sir_reach.computeReachSet(150)\n",
    "FlowPipePlotter(sir_flow).plot2DProj(2)"
   ]
  },
  {
   "cell_type": "markdown",
   "metadata": {},
   "source": [
    "## SIR Model projection to i "
   ]
  },
  {
   "cell_type": "code",
   "execution_count": null,
   "metadata": {},
   "outputs": [],
   "source": [
    "FlowPipePlotter(sir_flow).plot2DProj(1)"
   ]
  },
  {
   "cell_type": "markdown",
   "metadata": {},
   "source": [
    "## Phase Plot for SIR (S,I)"
   ]
  },
  {
   "cell_type": "code",
   "execution_count": null,
   "metadata": {},
   "outputs": [],
   "source": [
    "FlowPipePlotter(flowpipe).plot2DPhase(0,1)"
   ]
  },
  {
   "cell_type": "markdown",
   "metadata": {},
   "source": [
    "## Phase Plot for SIR (I,R)"
   ]
  },
  {
   "cell_type": "code",
   "execution_count": null,
   "metadata": {},
   "outputs": [],
   "source": [
    "FlowPipePlotter(flowpipe).plot2DPhase(1,2)"
   ]
  },
  {
   "cell_type": "markdown",
   "metadata": {},
   "source": [
    "# Rossler Model"
   ]
  },
  {
   "cell_type": "markdown",
   "metadata": {},
   "source": [
    "We finally introduce the Rossler model with parameters set by Dreossi et. al as follows:"
   ]
  },
  {
   "cell_type": "code",
   "execution_count": 5,
   "metadata": {},
   "outputs": [],
   "source": [
    "class Rossler(Model):\n",
    "\n",
    "    def __init__(self):\n",
    "\n",
    "        x, y, z = sp.Symbol('x'), sp.Symbol('y'), sp.Symbol('z')\n",
    "        vars = [x, y, z]\n",
    "\n",
    "        dim_sys = len(vars)\n",
    "\n",
    "        dx = x + (-y-z)*0.025\n",
    "        dy = y + (x + 0.1*y)*0.025\n",
    "        dz = z + (0.1 + z*(x-14))*0.02\n",
    "\n",
    "        dyns = [dx, dy ,dz]\n",
    "\n",
    "        num_direct = 5\n",
    "        num_temps = 3\n",
    "\n",
    "        L = np.zeros([num_direct, dim_sys])\n",
    "        T = np.zeros([num_temps, dim_sys])\n",
    "\n",
    "        L[0][0] = 1\n",
    "        L[1][1] = 1\n",
    "        L[2][2] = 1\n",
    "\n",
    "        L[3][0] = 1\n",
    "        L[3][1] = 0.5\n",
    "\n",
    "        L[4][0] = 0.5\n",
    "        L[4][2] = 0.5\n",
    "\n",
    "        T[0][0] = 0; T[0][1] = 1; T[0][2] = 2;\n",
    "        T[1][0] = 1; T[1][1] = 2; T[1][2] = 3;\n",
    "        T[2][0] = 2; T[2][1] = 3; T[2][2] = 4;\n",
    "\n",
    "        offu = np.zeros(num_direct)\n",
    "        offl = np.zeros(num_direct)\n",
    "\n",
    "        offu[0] = 0.1; offl[0] = -0.09;\n",
    "        offu[1] = 5; offl[1] = -4.99;\n",
    "        offu[2] = 0.1; offl[2] = -0.09;\n",
    "        offu[3] = 10; offl[3] = 0;\n",
    "        offu[4] = 10; offl[4] = 0;\n",
    "\n",
    "        b = Bundle(T, L, offu, offl, vars)\n",
    "\n",
    "        super().__init__(b, dyns, vars)"
   ]
  },
  {
   "cell_type": "markdown",
   "metadata": {},
   "source": [
    "## Rossler Model projection to x"
   ]
  },
  {
   "cell_type": "code",
   "execution_count": null,
   "metadata": {},
   "outputs": [],
   "source": [
    "rossler_model = rossler.Rossler()\n",
    "rossler_reach = ReachSet(rossler_model)\n",
    "rossler_flow = rossler_reach.computeReachSet(150)\n",
    "FlowPipePlotter(rossler_flow).plot2DProj(0)"
   ]
  },
  {
   "cell_type": "markdown",
   "metadata": {},
   "source": [
    "## Rossler Model projection to z"
   ]
  },
  {
   "cell_type": "code",
   "execution_count": null,
   "metadata": {},
   "outputs": [],
   "source": [
    "FlowPipePlotter(rossler_flow).plot2DProj(1)"
   ]
  },
  {
   "cell_type": "markdown",
   "metadata": {},
   "source": [
    "## Phase Plot for Rossler (x,y)"
   ]
  },
  {
   "cell_type": "code",
   "execution_count": null,
   "metadata": {},
   "outputs": [],
   "source": [
    "FlowPipePlotter(rossler_flow).plot2DPhase(0,1)"
   ]
  },
  {
   "cell_type": "markdown",
   "metadata": {},
   "source": [
    "## Phase Plot for Rossler (y,z)"
   ]
  },
  {
   "cell_type": "code",
   "execution_count": null,
   "metadata": {},
   "outputs": [],
   "source": [
    "FlowPipePlotter(rossler_flow).plot2DPhase(0,2)"
   ]
  },
  {
   "cell_type": "markdown",
   "metadata": {},
   "source": [
    "There are other models defined in the **/models** directory. Basic tests are contained in the **/tests** directory. The reader is encouraged to experiment with the values found in these files to learn about reachability with multiple parallelotopes.  \n",
    "\n",
    "To have a more in-depth look at the theoretical foundations of these techniques, check out the following papers:\n",
    "\n",
    "[Dang, T., Dreossi, T., Piazza, C.: Parameter synthesis using parallelotopic enclosure and appli- cations to epidemic models](http://citeseerx.ist.psu.edu/viewdoc/download?doi=10.1.1.707.7012&rep=rep1&type=pdf)\n",
    "\n",
    "[Dreossi, T., Dang, T., Piazza, C.: Parallelotope bundles for polynomial reachability.](https://dl.acm.org/doi/abs/10.1145/2883817.2883838)\n",
    "\n",
    "[Dang, T., Testylier, R.: Reachability analysis for polynomial dynamical systems using the bern- stein expansion.](http://citeseerx.ist.psu.edu/viewdoc/download?doi=10.1.1.300.4012&rep=rep1&type=pdf)"
   ]
  }
 ],
 "metadata": {
  "kernelspec": {
   "display_name": "Python 3",
   "language": "python",
   "name": "python3"
  },
  "language_info": {
   "codemirror_mode": {
    "name": "ipython",
    "version": 3
   },
   "file_extension": ".py",
   "mimetype": "text/x-python",
   "name": "python",
   "nbconvert_exporter": "python",
   "pygments_lexer": "ipython3",
   "version": "3.7.4"
  }
 },
 "nbformat": 4,
 "nbformat_minor": 2
}
